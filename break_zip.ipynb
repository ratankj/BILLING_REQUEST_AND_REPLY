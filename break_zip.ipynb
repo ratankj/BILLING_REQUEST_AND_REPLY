{
 "cells": [
  {
   "cell_type": "code",
   "execution_count": 1,
   "metadata": {},
   "outputs": [],
   "source": [
    "import pandas as pd"
   ]
  },
  {
   "cell_type": "code",
   "execution_count": null,
   "metadata": {},
   "outputs": [],
   "source": []
  },
  {
   "cell_type": "markdown",
   "metadata": {},
   "source": [
    "# THIS IS FOR BREAK UNZIP FILE "
   ]
  },
  {
   "cell_type": "code",
   "execution_count": 2,
   "metadata": {},
   "outputs": [],
   "source": [
    "import os\n",
    "import zipfile\n",
    "\n",
    "def split_zip_file(file_path, output_dir, max_size):\n",
    "    if not os.path.exists(output_dir):\n",
    "        os.makedirs(output_dir)\n",
    "\n",
    "    with zipfile.ZipFile(file_path, 'r') as zip_ref:\n",
    "        file_list = zip_ref.infolist()\n",
    "        \n",
    "        part_number = 1\n",
    "        current_size = 0\n",
    "        zip_part = None\n",
    "\n",
    "        for file_info in file_list:\n",
    "            if zip_part is None or current_size + file_info.file_size > max_size:\n",
    "                if zip_part:\n",
    "                    zip_part.close()\n",
    "                zip_part = zipfile.ZipFile(os.path.join(output_dir, f'part_{part_number}.zip'), 'w')\n",
    "                part_number += 1\n",
    "                current_size = 0\n",
    "\n",
    "            with zip_ref.open(file_info) as source, zip_part.open(file_info.filename, 'w') as target:\n",
    "                while True:\n",
    "                    buffer = source.read(1024 * 1024)\n",
    "                    if not buffer:\n",
    "                        break\n",
    "                    target.write(buffer)\n",
    "                    current_size += len(buffer)\n",
    "\n",
    "        if zip_part:\n",
    "            zip_part.close()\n",
    "\n",
    "file_path = r'C:\\Users\\Ratan Kumar Jha\\Desktop\\BILLING_REQUEST_AND_REPLY\\Requestaugust2024.zip'\n",
    "output_dir = r'C:\\Users\\Ratan Kumar Jha\\Desktop\\BILLING_REQUEST_AND_REPLY\\REQUEST_Aug_ZIP_BREAK_FILE'\n",
    "max_size = 100 * 1024 * 1024  # 100 MB\n",
    "\n",
    "split_zip_file(file_path, output_dir, max_size)\n"
   ]
  },
  {
   "cell_type": "code",
   "execution_count": null,
   "metadata": {},
   "outputs": [],
   "source": []
  },
  {
   "cell_type": "code",
   "execution_count": null,
   "metadata": {},
   "outputs": [],
   "source": []
  },
  {
   "cell_type": "code",
   "execution_count": null,
   "metadata": {},
   "outputs": [],
   "source": [
    "# extract a zip file to a particualr loaction"
   ]
  },
  {
   "cell_type": "code",
   "execution_count": 5,
   "metadata": {},
   "outputs": [
    {
     "ename": "KeyboardInterrupt",
     "evalue": "",
     "output_type": "error",
     "traceback": [
      "\u001b[1;31m---------------------------------------------------------------------------\u001b[0m",
      "\u001b[1;31mKeyboardInterrupt\u001b[0m                         Traceback (most recent call last)",
      "Cell \u001b[1;32mIn[5], line 24\u001b[0m\n\u001b[0;32m     21\u001b[0m extract_to_path \u001b[38;5;241m=\u001b[39m \u001b[38;5;124mr\u001b[39m\u001b[38;5;124m'\u001b[39m\u001b[38;5;124mC:\u001b[39m\u001b[38;5;124m\\\u001b[39m\u001b[38;5;124mUsers\u001b[39m\u001b[38;5;124m\\\u001b[39m\u001b[38;5;124mRatan Kumar Jha\u001b[39m\u001b[38;5;124m\\\u001b[39m\u001b[38;5;124mDesktop\u001b[39m\u001b[38;5;124m\\\u001b[39m\u001b[38;5;124mBILLING_REQUEST_AND_REPLY\u001b[39m\u001b[38;5;124m\\\u001b[39m\u001b[38;5;124mOUTPUT JUNE REPLY DATA\u001b[39m\u001b[38;5;124m\\\u001b[39m\u001b[38;5;124mOUTPUT REPLY DATA JUNE 1\u001b[39m\u001b[38;5;124m'\u001b[39m\n\u001b[0;32m     23\u001b[0m \u001b[38;5;66;03m# Call the function to extract the zip file\u001b[39;00m\n\u001b[1;32m---> 24\u001b[0m \u001b[43mextract_zip_file\u001b[49m\u001b[43m(\u001b[49m\u001b[43mzip_file_path\u001b[49m\u001b[43m,\u001b[49m\u001b[43m \u001b[49m\u001b[43mextract_to_path\u001b[49m\u001b[43m)\u001b[49m\n",
      "Cell \u001b[1;32mIn[5], line 16\u001b[0m, in \u001b[0;36mextract_zip_file\u001b[1;34m(zip_file_path, extract_to_path)\u001b[0m\n\u001b[0;32m     14\u001b[0m \u001b[38;5;66;03m# Extract the zip file\u001b[39;00m\n\u001b[0;32m     15\u001b[0m \u001b[38;5;28;01mwith\u001b[39;00m zipfile\u001b[38;5;241m.\u001b[39mZipFile(zip_file_path, \u001b[38;5;124m'\u001b[39m\u001b[38;5;124mr\u001b[39m\u001b[38;5;124m'\u001b[39m) \u001b[38;5;28;01mas\u001b[39;00m zip_ref:\n\u001b[1;32m---> 16\u001b[0m     \u001b[43mzip_ref\u001b[49m\u001b[38;5;241;43m.\u001b[39;49m\u001b[43mextractall\u001b[49m\u001b[43m(\u001b[49m\u001b[43mextract_to_path\u001b[49m\u001b[43m)\u001b[49m\n\u001b[0;32m     17\u001b[0m     \u001b[38;5;28mprint\u001b[39m(\u001b[38;5;124mf\u001b[39m\u001b[38;5;124m\"\u001b[39m\u001b[38;5;124mExtracted \u001b[39m\u001b[38;5;132;01m{\u001b[39;00mzip_file_path\u001b[38;5;132;01m}\u001b[39;00m\u001b[38;5;124m to \u001b[39m\u001b[38;5;132;01m{\u001b[39;00mextract_to_path\u001b[38;5;132;01m}\u001b[39;00m\u001b[38;5;124m\"\u001b[39m)\n",
      "File \u001b[1;32mc:\\PYTHON\\EDF_CODE_AUTOMATION_PYTHON\\SNIPPET_CODE\\venv\\lib\\zipfile.py:1633\u001b[0m, in \u001b[0;36mZipFile.extractall\u001b[1;34m(self, path, members, pwd)\u001b[0m\n\u001b[0;32m   1630\u001b[0m     path \u001b[38;5;241m=\u001b[39m os\u001b[38;5;241m.\u001b[39mfspath(path)\n\u001b[0;32m   1632\u001b[0m \u001b[38;5;28;01mfor\u001b[39;00m zipinfo \u001b[38;5;129;01min\u001b[39;00m members:\n\u001b[1;32m-> 1633\u001b[0m     \u001b[38;5;28;43mself\u001b[39;49m\u001b[38;5;241;43m.\u001b[39;49m\u001b[43m_extract_member\u001b[49m\u001b[43m(\u001b[49m\u001b[43mzipinfo\u001b[49m\u001b[43m,\u001b[49m\u001b[43m \u001b[49m\u001b[43mpath\u001b[49m\u001b[43m,\u001b[49m\u001b[43m \u001b[49m\u001b[43mpwd\u001b[49m\u001b[43m)\u001b[49m\n",
      "File \u001b[1;32mc:\\PYTHON\\EDF_CODE_AUTOMATION_PYTHON\\SNIPPET_CODE\\venv\\lib\\zipfile.py:1688\u001b[0m, in \u001b[0;36mZipFile._extract_member\u001b[1;34m(self, member, targetpath, pwd)\u001b[0m\n\u001b[0;32m   1684\u001b[0m     \u001b[38;5;28;01mreturn\u001b[39;00m targetpath\n\u001b[0;32m   1686\u001b[0m \u001b[38;5;28;01mwith\u001b[39;00m \u001b[38;5;28mself\u001b[39m\u001b[38;5;241m.\u001b[39mopen(member, pwd\u001b[38;5;241m=\u001b[39mpwd) \u001b[38;5;28;01mas\u001b[39;00m source, \\\n\u001b[0;32m   1687\u001b[0m      \u001b[38;5;28mopen\u001b[39m(targetpath, \u001b[38;5;124m\"\u001b[39m\u001b[38;5;124mwb\u001b[39m\u001b[38;5;124m\"\u001b[39m) \u001b[38;5;28;01mas\u001b[39;00m target:\n\u001b[1;32m-> 1688\u001b[0m     shutil\u001b[38;5;241m.\u001b[39mcopyfileobj(source, target)\n\u001b[0;32m   1690\u001b[0m \u001b[38;5;28;01mreturn\u001b[39;00m targetpath\n",
      "\u001b[1;31mKeyboardInterrupt\u001b[0m: "
     ]
    },
    {
     "ename": "",
     "evalue": "",
     "output_type": "error",
     "traceback": [
      "\u001b[1;31mThe Kernel crashed while executing code in the current cell or a previous cell. \n",
      "\u001b[1;31mPlease review the code in the cell(s) to identify a possible cause of the failure. \n",
      "\u001b[1;31mClick <a href='https://aka.ms/vscodeJupyterKernelCrash'>here</a> for more info. \n",
      "\u001b[1;31mView Jupyter <a href='command:jupyter.viewOutput'>log</a> for further details."
     ]
    }
   ],
   "source": [
    "import zipfile\n",
    "import os\n",
    "\n",
    "def extract_zip_file(zip_file_path, extract_to_path):\n",
    "    # Check if the zip file exists\n",
    "    if not os.path.exists(zip_file_path):\n",
    "        print(f\"The file {zip_file_path} does not exist.\")\n",
    "        return\n",
    "    \n",
    "    # Check if the extract_to_path exists, create if it doesn't\n",
    "    if not os.path.exists(extract_to_path):\n",
    "        os.makedirs(extract_to_path)\n",
    "    \n",
    "    # Extract the zip file\n",
    "    with zipfile.ZipFile(zip_file_path, 'r') as zip_ref:\n",
    "        zip_ref.extractall(extract_to_path)\n",
    "        print(f\"Extracted {zip_file_path} to {extract_to_path}\")\n",
    "\n",
    "# Specify the zip file path and the extraction path\n",
    "zip_file_path = r'C:\\Users\\Ratan Kumar Jha\\Desktop\\BILLING_REQUEST_AND_REPLY\\REPLY_JUNE_ZIP_BREAK_FILE\\part_10.zip'\n",
    "extract_to_path = r'C:\\Users\\Ratan Kumar Jha\\Desktop\\BILLING_REQUEST_AND_REPLY\\OUTPUT JUNE REPLY DATA\\OUTPUT REPLY DATA JUNE 1'\n",
    "\n",
    "# Call the function to extract the zip file\n",
    "extract_zip_file(zip_file_path, extract_to_path)\n"
   ]
  },
  {
   "cell_type": "code",
   "execution_count": null,
   "metadata": {},
   "outputs": [],
   "source": []
  },
  {
   "cell_type": "code",
   "execution_count": null,
   "metadata": {},
   "outputs": [],
   "source": []
  }
 ],
 "metadata": {
  "kernelspec": {
   "display_name": "Python 3",
   "language": "python",
   "name": "python3"
  },
  "language_info": {
   "codemirror_mode": {
    "name": "ipython",
    "version": 3
   },
   "file_extension": ".py",
   "mimetype": "text/x-python",
   "name": "python",
   "nbconvert_exporter": "python",
   "pygments_lexer": "ipython3",
   "version": "3.9.19"
  }
 },
 "nbformat": 4,
 "nbformat_minor": 2
}
